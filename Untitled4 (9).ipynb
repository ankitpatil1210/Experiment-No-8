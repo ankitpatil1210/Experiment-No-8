{
  "nbformat": 4,
  "nbformat_minor": 0,
  "metadata": {
    "colab": {
      "name": "Untitled4.ipynb",
      "provenance": []
    },
    "kernelspec": {
      "name": "python3",
      "display_name": "Python 3"
    },
    "language_info": {
      "name": "python"
    }
  },
  "cells": [
    {
      "cell_type": "markdown",
      "source": [
        "Write a python program to find largest of three numbers."
      ],
      "metadata": {
        "id": "-C5vq60Y1nTo"
      }
    },
    {
      "cell_type": "code",
      "source": [
        "num1 = int(input(\"Enter first number: \"))\n",
        "num2 = int(input(\"Enter second number: \"))\n",
        "num3 = int(input(\"Enter third number: \"))\n",
        " \n",
        "if (num1 > num2) and (num1 > num3):\n",
        "   largest = num1\n",
        "elif (num2 > num1) and (num2 > num3):\n",
        "   largest = num2\n",
        "else:\n",
        "   largest = num3\n",
        " \n",
        "print(\"The largest number is\",largest)"
      ],
      "metadata": {
        "colab": {
          "base_uri": "https://localhost:8080/"
        },
        "id": "Ifv0C4vK1naY",
        "outputId": "d88613e2-02c6-4c83-9a49-33e862b14a4c"
      },
      "execution_count": 27,
      "outputs": [
        {
          "output_type": "stream",
          "name": "stdout",
          "text": [
            "Enter first number: 5\n",
            "Enter second number: 6\n",
            "Enter third number: 4\n",
            "The largest number is 6\n"
          ]
        }
      ]
    }
  ]
}